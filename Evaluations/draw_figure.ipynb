{
 "cells": [
  {
   "cell_type": "code",
   "execution_count": 3,
   "id": "98b888f9",
   "metadata": {},
   "outputs": [],
   "source": [
    "import torch\n",
    "from torch import nn\n",
    "from torch.utils.data import DataLoader\n",
    "import numpy as np\n",
    "from tqdm import tqdm\n",
    "from matplotlib import pyplot as plt\n"
   ]
  },
  {
   "cell_type": "code",
   "execution_count": 5,
   "id": "9a3fc7e2",
   "metadata": {},
   "outputs": [],
   "source": [
    "# define the function used to draw the final result\n",
    "def plot_training_curves(\n",
    "    acc, labels, title,\n",
    "    save_name, x_label, y_label,\n",
    "    legend_label\n",
    "):\n",
    "    fig, ax = plt.subplots(figsize=(14,6))\n",
    "    \n",
    "    ax.plot(acc, label=legend_label, marker='o', markersize=7, markerfacecolor='white')\n",
    "    \n",
    "    ax.legend(loc='best')\n",
    "    ax.set_title(title, fontsize=16)\n",
    "    ax.set_xlabel(x_label, fontsize=14)\n",
    "    ax.set_ylabel(y_label, fontsize=14)\n",
    "    plt.xticks(ticks=np.arange(len(labels)), labels=labels)\n",
    "    \n",
    "    plt.annotate(f\"{line[i]:.4}\", (i, line[i]+0.001))\n",
    "    \n",
    "    plt.savefig(f\"./{save_name}\")\n",
    "    plt.show()"
   ]
  },
  {
   "cell_type": "code",
   "execution_count": null,
   "id": "c8417bfb",
   "metadata": {},
   "outputs": [],
   "source": [
    "base_path = \"/home/ubuntu/FedEM/unharden_trial1\"\n",
    "labels = ['atk_start', 'before_replace', 'unharden'] # name of the label\n",
    "\n",
    "all_label_acc = [\n",
    "    f\"{base_path}/{label}/eval/all_acc.npy\" for label in labels\n",
    "] # the path to the all_acc.npy\n",
    "\n",
    "all_label_avg_acc = []\n",
    "for i in all_label_acc:\n",
    "    res = np.load(i)\n",
    "    all_label_avg_acc.append(\n",
    "        np.sum(res) / (res.shape[0] * res.shape[1])\n",
    "    )\n",
    "\n",
    "# display the accuracy\n",
    "plot_training_curves(\n",
    "    all_label_avg_acc, labels, F\"Final Acc on All Test Data\",\n",
    "    f\"rep_gt150.pdf\", \"Scale Factor\", \"Accuracy\",\n",
    "    \"acc\"\n",
    ")\n"
   ]
  }
 ],
 "metadata": {
  "kernelspec": {
   "display_name": "Python 3 (ipykernel)",
   "language": "python",
   "name": "python3"
  },
  "language_info": {
   "codemirror_mode": {
    "name": "ipython",
    "version": 3
   },
   "file_extension": ".py",
   "mimetype": "text/x-python",
   "name": "python",
   "nbconvert_exporter": "python",
   "pygments_lexer": "ipython3",
   "version": "3.9.13"
  }
 },
 "nbformat": 4,
 "nbformat_minor": 5
}
